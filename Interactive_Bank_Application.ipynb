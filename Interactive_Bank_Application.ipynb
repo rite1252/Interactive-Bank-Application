{
  "nbformat": 4,
  "nbformat_minor": 0,
  "metadata": {
    "colab": {
      "name": " Interactive Bank Application.ipynb",
      "provenance": [],
      "collapsed_sections": []
    },
    "kernelspec": {
      "name": "python3",
      "display_name": "Python 3"
    }
  },
  "cells": [
    {
      "cell_type": "markdown",
      "metadata": {
        "id": "UYmMpXkNw9I6"
      },
      "source": [
        "#  **Interactive Bank Application**"
      ]
    },
    {
      "cell_type": "markdown",
      "metadata": {
        "id": "x9vfVAsbslya"
      },
      "source": [
        "### Context\n",
        "\n",
        "Decades before, most of the banks used to maintain the details of their customers in a record book or in an excel sheet in a computer. This is not so reliable as compared to today’s revolutionary growth of technology in almost all of the fields.\n",
        "\n",
        "There is also a negative side in today’s growth of technology i.e. the increasing cyber crimes all over the world.\n",
        "\n",
        "Do you know, in earlier days we need to stand in a long queue for hours in banks to deposit (a sum of money paid into a bank account) or withdraw (a sum of money withdrawn from a bank account) or to create a new bank account?\n",
        "But nowadays with the growth of technology, users can create and maintain their bank account or pay their electric bills, phone bills by sitting in their homes. All they need is a smartphone and internet.\n",
        "\n",
        "Now, a new bank called (XYZ) decides to update their banking model from old excel sheets to the latest technology and require a sample project of a bank model. So lets help them in creating this bank application."
      ]
    },
    {
      "cell_type": "markdown",
      "metadata": {
        "id": "G9pdov_M0nzo"
      },
      "source": [
        "---"
      ]
    },
    {
      "cell_type": "markdown",
      "metadata": {
        "id": "2i36Yv3-MPY5"
      },
      "source": [
        "# Objective\n",
        "\n",
        "In this project, we are making a SAMPLE PROJECT OF BANK MODEL so that an (XYZ) Bank can update their banking model from old excel sheets to the latest technology .So we will be writing a computer program to create an interactive bank application for the (XYZ) Bank. The application will have two simple functionalities:\n",
        "\n",
        "1. It will allow a customer to create a new bank account with their following personal details:\n",
        "\n",
        "   - Full name\n",
        "\n",
        "   - Permanent residential address\n",
        "\n",
        "   - Personal or residential phone number\n",
        "\n",
        "   - Valid government-issued identification \n",
        "\n",
        "   - Amount to be deposited to the account\n",
        "\n",
        "2. And will allow an existing customer of the bank to \n",
        "\n",
        "   - Check their bank balance\n",
        "   \n",
        "   - Withdraw some amount from their account provided that the withdrawal amount is less than the available bank balance\n",
        "   \n",
        "   - Deposit some amount to their account\n"
      ]
    },
    {
      "cell_type": "markdown",
      "metadata": {
        "id": "Y9JYGh67SE1-"
      },
      "source": [
        "---"
      ]
    },
    {
      "cell_type": "markdown",
      "metadata": {
        "id": "toeLx5LJpIV-"
      },
      "source": [
        "### Project Requirements\n",
        "\n",
        "1. First we will create an empty dictionary and store it in the `cust_data` variable. Also, create a list holding the attributes to be filled by a customer. Store the list in the `new_user_attributes` variable.\n",
        "\n",
        "2. Then we will create a function to add a new user to the 'cust_data' dictionary. Name the function as `new_user()`.\n",
        "\n",
        "3. After that we will Create a function to get the account details of an existing user from the `cust_data` dictionary. Name the function as `existing_user()`.\n",
        "\n",
        "4. Finally, we will create an infinite `while` loop to run the application.\n"
      ]
    },
    {
      "cell_type": "markdown",
      "metadata": {
        "id": "5JRlGIBRqCGl"
      },
      "source": [
        "---"
      ]
    },
    {
      "cell_type": "markdown",
      "metadata": {
        "id": "UCusTfW0tcxe"
      },
      "source": [
        "#### 1. Customer Data\n",
        "\n",
        "The data of all the customers will be stored in a Python dictionary. Let's call it `cust_data`. \n",
        "\n",
        "The key of the `cust_data` dictionary Will be an account number of a customer. Its corresponding value will be another dictionary holding the personal details of a customer such as `name`, `address, email id` etc. as shown below. \n",
        "\n",
        "```\n",
        "cust_data = {10011 : {'name': karthik, \n",
        "                      'address': 'C42, MG Complex, Sector-14, Vashi', \n",
        "                      'phone num': '9876543210',\n",
        "                      'govt id': 'C12345Z',\n",
        "                      'amount': 15999}}\n",
        "``` \n",
        "\n",
        "Here, `10011` is the account number for Karthik's saving account. It acts as a key to the dictionary containing his details.\n",
        "\n",
        "To add the personal details of another customer to the `cust_data` dictionary, we have to append it with existing data in the dictionary as shown below.\n",
        "\n",
        "```\n",
        "cust_data = {10011 : {'name': karthik, \n",
        "                      'address': 'C42, MG Complex, Sector-14, Vashi', \n",
        "                      'phone num': '9876543210',\n",
        "                      'govt id': 'C12345Z',\n",
        "                      'amount': 15999}, \n",
        "            100012 : {'name' : Hrithik, \n",
        "                      'address': B-910, Mandapeshwar Kripa, Borivalli, \n",
        "                      'phone num' : '9876543210',\n",
        "                      'govt id': 'QL44345',\n",
        "                      'amount': 13999}}\n",
        "``` \n",
        "\n",
        "Next,we have to create a list holding the personal attributes of a customer, i.e., \n",
        "\n",
        "`['name', 'address', 'phone num', 'govt id', 'amount']`."
      ]
    },
    {
      "cell_type": "code",
      "metadata": {
        "id": "6RL71w3ntzcH"
      },
      "source": [
        "# Creating the empty 'cust_data' dictionary and the 'new_user_attributes' list.\n",
        "cust_data = {}\n",
        "new_user_attributes = ['name', 'address', 'phone num', 'govt id', 'amount']"
      ],
      "execution_count": 27,
      "outputs": []
    },
    {
      "cell_type": "markdown",
      "metadata": {
        "id": "RETr5Tv1JBls"
      },
      "source": [
        "---"
      ]
    },
    {
      "cell_type": "markdown",
      "metadata": {
        "id": "0_OEabQbGQcP"
      },
      "source": [
        "#### 2. Adding New User\n",
        "\n",
        "We will create a function to add a new user to the `cust_data` dictionary. Naming the function as `new_user()`. We will do this step by step\n",
        "\n",
        "**Step 1**: First we will create a random five-digit account number (ranging between 10000 to 99999) for a new customer using the `random` module. And we will Make it  sure that it doesn't already exist in the `cust_data` dictionary.\n",
        "\n",
        "**Step 2**: Then we will create an empty list and store it in the `new_user_input` variable. This list is used to store the details of the user that is given in the `new_user_attribues` list.\n",
        "\n",
        "**Step 3**: Then we will Prompt the user to enter all of their required details one-by-one and add  them to the list `new_user_input`.And also we have to Make it sure that the amount added to the list should be an an integer data-type.\n",
        "\n",
        "**Step 4**: After that we will create a dictionary for the new user and add it to the `cust_data` dictionary.\n",
        "\n",
        "**Step 5**: And finally we will Display the following message to the user.\n",
        "\n",
        "  ```\n",
        "  Your details are added successfully.\n",
        "  Your account number is ABCDE \n",
        "  Please don't lose it.  \n",
        "  ```\n",
        "  where `ABCDE` is some randomly generated 5-digit account number (ranging between 10000 to 99999) for the new user.\n",
        "\n"
      ]
    },
    {
      "cell_type": "code",
      "metadata": {
        "id": "mROhcvIy0ML6"
      },
      "source": [
        "# Creating 'new_user()' function to add a new user to the 'cust_data' dictionary.\n",
        "import random                                      \n",
        "def new_user():\n",
        "  acc_num = random.randint(10000, 99999)               # Step 1: Create a random five-digit account number\n",
        "  while acc_num in cust_data.keys():                       # we will check wheather the account no. exist or not and make another random acc no.\n",
        "    acc_num = random.randint(10000, 99999)\n",
        "  new_user_inputs = []                                          # Step 2: Create an empty list and store it in the new_user_input variable..\n",
        "  for i in range(len(new_user_attributes)):                         # Step 3: Prompt the user to enter all of their required details one-by-one and add them to the list new_user_input.\n",
        "    user_input = input(\"Enter \" + new_user_attributes[i] + \":\\n\")\n",
        "    if new_user_attributes[i] == 'amount':\n",
        "      new_user_inputs.append(int(user_input))\n",
        "    else:\n",
        "      new_user_inputs.append(user_input)\n",
        "  cust_data[acc_num] = dict(zip(new_user_attributes, new_user_inputs))                  # Step 4: Create a dictionary for the new user and add it to the cust_data dictionary.\n",
        "  print(\"\\nYour details are added successfully.\\nYour account number is\", acc_num, \"\\nPlease don't lose it.\")   # Step 5: Display the message of successfull account creation to the user.\n",
        "\n"
      ],
      "execution_count": 28,
      "outputs": []
    },
    {
      "cell_type": "code",
      "source": [
        "new_user()"
      ],
      "metadata": {
        "colab": {
          "base_uri": "https://localhost:8080/"
        },
        "id": "rDsjYcrxjxpr",
        "outputId": "219d4b4c-1cbf-41ff-c8b4-613150d3f63f"
      },
      "execution_count": 29,
      "outputs": [
        {
          "output_type": "stream",
          "name": "stdout",
          "text": [
            "Enter name:\n",
            "karthik\n",
            "Enter address:\n",
            "C42,MG Complex, Sector-14, Vashi\n",
            "Enter phone num:\n",
            "9876543210\n",
            "Enter govt id:\n",
            "C12345Z\n",
            "Enter amount:\n",
            "15999\n",
            "\n",
            "Your details are added successfully.\n",
            "Your account number is 30474 \n",
            "Please don't lose it.\n"
          ]
        }
      ]
    },
    {
      "cell_type": "code",
      "source": [
        "new_user()\n"
      ],
      "metadata": {
        "colab": {
          "base_uri": "https://localhost:8080/"
        },
        "id": "CeZ7B2U0Aw_v",
        "outputId": "99c12c67-e0d8-4fa9-b871-a12f400b080d"
      },
      "execution_count": 30,
      "outputs": [
        {
          "output_type": "stream",
          "name": "stdout",
          "text": [
            "Enter name:\n",
            "Hrithik\n",
            "Enter address:\n",
            "B-910,Mandapeshwar Kripa, Borivalli\n",
            "Enter phone num:\n",
            "9876543210\n",
            "Enter govt id:\n",
            "QL44345\n",
            "Enter amount:\n",
            "139999\n",
            "\n",
            "Your details are added successfully.\n",
            "Your account number is 30230 \n",
            "Please don't lose it.\n"
          ]
        }
      ]
    },
    {
      "cell_type": "code",
      "source": [
        "\n",
        "cust_data"
      ],
      "metadata": {
        "colab": {
          "base_uri": "https://localhost:8080/"
        },
        "id": "8N714msc_j2a",
        "outputId": "269cb832-2cb5-435c-8b77-90a6d196a1a3"
      },
      "execution_count": 7,
      "outputs": [
        {
          "output_type": "execute_result",
          "data": {
            "text/plain": [
              "{57549: {'address': 'C42, MG Complex, Sector-14, Vashi',\n",
              "  'amount': 15999,\n",
              "  'govt id': \"C12345Z'\",\n",
              "  'name': 'kharthik',\n",
              "  'phone num': '9876543210'}}"
            ]
          },
          "metadata": {},
          "execution_count": 7
        }
      ]
    },
    {
      "cell_type": "code",
      "source": [
        "new_user()"
      ],
      "metadata": {
        "colab": {
          "base_uri": "https://localhost:8080/"
        },
        "id": "PCjDNVRGn2tp",
        "outputId": "4b3cfb50-b641-4e7e-9c0a-dd1a77c108d8"
      },
      "execution_count": 31,
      "outputs": [
        {
          "output_type": "stream",
          "name": "stdout",
          "text": [
            "Enter name:\n",
            "Archit Sharma\n",
            "Enter address:\n",
            "16B/567,Vasundhara,Gagan Complex,Ghaziabad, U.P\n",
            "Enter phone num:\n",
            "8327487423\n",
            "Enter govt id:\n",
            "T67859U\n",
            "Enter amount:\n",
            "51877\n",
            "\n",
            "Your details are added successfully.\n",
            "Your account number is 49373 \n",
            "Please don't lose it.\n"
          ]
        }
      ]
    },
    {
      "cell_type": "code",
      "source": [
        "new_user()"
      ],
      "metadata": {
        "colab": {
          "base_uri": "https://localhost:8080/"
        },
        "id": "inQDwCqBoVnS",
        "outputId": "b85aefb8-3953-4395-b9c1-dc272d80c061"
      },
      "execution_count": 32,
      "outputs": [
        {
          "output_type": "stream",
          "name": "stdout",
          "text": [
            "Enter name:\n",
            "Rishabh\n",
            "Enter address:\n",
            "15A/108,Vasundhara, Unique Plaza, Ghaziabad,U.P\n",
            "Enter phone num:\n",
            "9650735678\n",
            "Enter govt id:\n",
            "A76348K\n",
            "Enter amount:\n",
            "101100\n",
            "\n",
            "Your details are added successfully.\n",
            "Your account number is 99705 \n",
            "Please don't lose it.\n"
          ]
        }
      ]
    },
    {
      "cell_type": "code",
      "metadata": {
        "colab": {
          "base_uri": "https://localhost:8080/"
        },
        "id": "TZMN9HzA0vu3",
        "outputId": "9c9820b4-d2d1-4d50-a4a3-a2997238feb3"
      },
      "source": [
        "cust_data"
      ],
      "execution_count": 33,
      "outputs": [
        {
          "output_type": "execute_result",
          "data": {
            "text/plain": [
              "{30230: {'address': 'B-910,Mandapeshwar Kripa, Borivalli',\n",
              "  'amount': 139999,\n",
              "  'govt id': 'QL44345',\n",
              "  'name': 'Hrithik',\n",
              "  'phone num': '9876543210'},\n",
              " 30474: {'address': 'C42,MG Complex, Sector-14, Vashi',\n",
              "  'amount': 15999,\n",
              "  'govt id': 'C12345Z',\n",
              "  'name': 'karthik',\n",
              "  'phone num': '9876543210'},\n",
              " 49373: {'address': '16B/567,Vasundhara,Gagan Complex,Ghaziabad, U.P',\n",
              "  'amount': 51877,\n",
              "  'govt id': 'T67859U',\n",
              "  'name': 'Archit Sharma',\n",
              "  'phone num': '8327487423'},\n",
              " 99705: {'address': '15A/108,Vasundhara, Unique Plaza, Ghaziabad,U.P',\n",
              "  'amount': 101100,\n",
              "  'govt id': 'A76348K',\n",
              "  'name': 'Rishabh',\n",
              "  'phone num': '9650735678'}}"
            ]
          },
          "metadata": {},
          "execution_count": 33
        }
      ]
    },
    {
      "cell_type": "code",
      "metadata": {
        "colab": {
          "base_uri": "https://localhost:8080/",
          "height": 35
        },
        "id": "KoYAwyFr3GUt",
        "outputId": "f138d648-7131-4f59-86a3-c4d045d4bdc5"
      },
      "source": [
        "cust_data[99705]['name']"
      ],
      "execution_count": 34,
      "outputs": [
        {
          "output_type": "execute_result",
          "data": {
            "application/vnd.google.colaboratory.intrinsic+json": {
              "type": "string"
            },
            "text/plain": [
              "'Rishabh'"
            ]
          },
          "metadata": {},
          "execution_count": 34
        }
      ]
    },
    {
      "cell_type": "markdown",
      "metadata": {
        "id": "aJJT0ojPGPcd"
      },
      "source": [
        "---"
      ]
    },
    {
      "cell_type": "markdown",
      "metadata": {
        "id": "rZsDogK8LaOW"
      },
      "source": [
        "#### 3. Existing User\n",
        "\n",
        "Now we will Make a function to get the account details of an existing user from the `cust_data` dictionary and name it as `existing_user()`. we will make it step by step.\n",
        "\n",
        "**Step 1**: First we will prompt(tell) the user to enter their account number. Keep prompting until they enter their correct account number. For each invalid account number, we will print the following message to the user.\n",
        "\n",
        "   ```\n",
        "   Not found. Please enter your correct account number:\n",
        "   ```\n",
        "\n",
        "**Step 2**: Once the user has entered the correct account number, we will print the following message to the user.\n",
        "\n",
        "   ```\n",
        "   Welcome, user_name ! \n",
        "   Enter 1 to check your balance.\n",
        "   Enter 2 to withdraw an amount.\n",
        "   Enter 3 to deposit an amount.\n",
        "   ```\n",
        "  where `user_name` is the name of the existing user who entered his account number correctly in the first step.\n",
        "\n",
        "**Step 3**: Then we will prompt the user to enter either `1, 2` or `3`. Keep prompting until the user enters the valid input. For each invalid input, print the following message to the user.\n",
        "\n",
        "   ```\n",
        "   Invalid input! \n",
        "   Enter 1 to check your balance.\n",
        "   Enter 2 to withdraw an amount.\n",
        "   Enter 3 to deposit an amount.\n",
        "   ```\n",
        "\n",
        "**Step 4**: In the case of valid input:\n",
        "  \n",
        "   - If the user enters `1`, then we will display their available account balance.\n",
        "\n",
        "   - Else if the user enters `2`, then we will prompt(tell) the user to enter the withdrawal amount by displaying the `Enter the amount to be withdrawn:` message.\n",
        "\n",
        "     - If the withdrawal amount is greater than the available balance, then display the following message.\n",
        "\n",
        "       ```\n",
        "       Insufficient balance.\n",
        "       Available balance: X\n",
        "       ```\n",
        "\n",
        "        where `X` is the available balance in the user's account.\n",
        "\n",
        "     - Else, subtract the withdrawal amount from the available balance and replace the existing available amount with the updated amount in the `cust_data` dictionary. Also, print the following message.\n",
        "\n",
        "       ```\n",
        "       Withdrawal successful.\n",
        "       Available Balance: Y\n",
        "       ```\n",
        "\n",
        "       where `Y` is the updated amount.\n",
        "\n",
        "   - Else if the user enters `3`, then we will prompt them to enter the amount to be deposited to their account by displaying the `Enter the amount to be deposited:` message. Add the deposit amount to the available balance and update the new deposit amount in the `cust_data` dictionary. Also, display the following message.\n",
        "\n",
        "     ```\n",
        "     Deposit successful.\n",
        "     Available Balance: Z\n",
        "     ```\n",
        "\n",
        "     where `Z` is the updated deposit amount.\n",
        " "
      ]
    },
    {
      "cell_type": "code",
      "metadata": {
        "id": "8HV3cY6O9LeE",
        "colab": {
          "base_uri": "https://localhost:8080/"
        },
        "outputId": "d858528a-b8dc-4c45-bb87-1fa959538bb0"
      },
      "source": [
        "# The 'existing_user()' function to get the account details of an existing user from the 'cust_data' dictionary.\n",
        "def existing_user():\n",
        "  # Step 1\n",
        "  acc_num = int(input(\"Please enter your account number:\\n\"))\n",
        "  while acc_num not in cust_data:\n",
        "    acc_num = int(input(\"Not found. Please enter your correct account number:\\n\"))\n",
        "  # Step 2\n",
        "  print(\"\\nWelcome,\", cust_data[acc_num]['name'], \"!\", \n",
        "        \"\\nEnter 1 to check your balance.\\nEnter 2 to withdraw an amount.\\nEnter 3 to deposit an amount.\")\n",
        "  # Step 3\n",
        "  user_choice = input()\n",
        "  while user_choice not in ['1','2','3']:\n",
        "    print(\"\\nInvalid input!\")\n",
        "    print(\"Enter 1 to check your balance.\\nEnter 2 to withdraw an amount.\\nEnter 3 to deposit an amount.\")\n",
        "    user_choice = input()\n",
        "  # Step 4\n",
        "  if user_choice == '1':\n",
        "    print(\"\\nAvailable Balance:\", cust_data[acc_num]['amount'])\n",
        "\n",
        "  elif user_choice == '2':\n",
        "    amt = int(input(\"\\nEnter the amount to be withdrawn:\\n\"))\n",
        "    if amt > cust_data[acc_num]['amount']:\n",
        "      print(\"\\nInsufficient balance.\\nAvailable balance:\", cust_data[acc_num]['amount'])\n",
        "    else:\n",
        "      new_amt = int(cust_data[acc_num]['amount']) - amt\n",
        "      cust_data[acc_num]['amount'] = new_amt\n",
        "      print(\"\\nWithdrawal successful.\\nAvailable Balance:\", cust_data[acc_num]['amount'])\n",
        "\n",
        "  elif user_choice == '3':\n",
        "    amt = int(input(\"\\nEnter the amount to be deposited:\\n\"))\n",
        "    new_amt = int(cust_data[acc_num]['amount']) + amt\n",
        "    cust_data[acc_num]['amount'] = new_amt\n",
        "    print(\"\\nDeposit successful.\\nAvailable Balance:\", cust_data[acc_num]['amount'])\n",
        "\n",
        "existing_user()"
      ],
      "execution_count": 35,
      "outputs": [
        {
          "output_type": "stream",
          "name": "stdout",
          "text": [
            "Please enter your account number:\n",
            "49373\n",
            "\n",
            "Welcome, Archit Sharma ! \n",
            "Enter 1 to check your balance.\n",
            "Enter 2 to withdraw an amount.\n",
            "Enter 3 to deposit an amount.\n",
            "1\n",
            "\n",
            "Available Balance: 51877\n"
          ]
        }
      ]
    },
    {
      "cell_type": "code",
      "source": [
        "existing_user()"
      ],
      "metadata": {
        "colab": {
          "base_uri": "https://localhost:8080/"
        },
        "id": "g7OK5OL2rXmo",
        "outputId": "8c6ff21a-2e82-4c9c-d82b-7722a83458e8"
      },
      "execution_count": 36,
      "outputs": [
        {
          "output_type": "stream",
          "name": "stdout",
          "text": [
            "Please enter your account number:\n",
            "99705\n",
            "\n",
            "Welcome, Rishabh ! \n",
            "Enter 1 to check your balance.\n",
            "Enter 2 to withdraw an amount.\n",
            "Enter 3 to deposit an amount.\n",
            "3\n",
            "\n",
            "Enter the amount to be deposited:\n",
            "10000\n",
            "\n",
            "Deposit successful.\n",
            "Available Balance: 111100\n"
          ]
        }
      ]
    },
    {
      "cell_type": "code",
      "source": [
        "existing_user()"
      ],
      "metadata": {
        "colab": {
          "base_uri": "https://localhost:8080/"
        },
        "id": "0l693Fu8ru1Y",
        "outputId": "62e18fb4-bf05-497b-b542-7789e7b27190"
      },
      "execution_count": 37,
      "outputs": [
        {
          "output_type": "stream",
          "name": "stdout",
          "text": [
            "Please enter your account number:\n",
            "30474\n",
            "\n",
            "Welcome, karthik ! \n",
            "Enter 1 to check your balance.\n",
            "Enter 2 to withdraw an amount.\n",
            "Enter 3 to deposit an amount.\n",
            "2\n",
            "\n",
            "Enter the amount to be withdrawn:\n",
            "2000\n",
            "\n",
            "Withdrawal successful.\n",
            "Available Balance: 13999\n"
          ]
        }
      ]
    },
    {
      "cell_type": "markdown",
      "metadata": {
        "id": "gdgW4-R6LVB3"
      },
      "source": [
        "---"
      ]
    },
    {
      "cell_type": "markdown",
      "metadata": {
        "id": "NyHSsEwEoEvH"
      },
      "source": [
        "#### 4. Infinite `while` Loop \n",
        "\n",
        "Finally, we will create an infinite `while` loop to run the application. Inside the loop:\n",
        "\n",
        "  1. First we will create a list of valid inputs, i.e., `'1', '2', '3'`\n",
        "\n",
        "  2. Then we will prompt the user to enter either `1, 2,` or `3` by displaying the following message.\n",
        "\n",
        "     ```\n",
        "     Welcome to the Horizon Bank!\n",
        "\n",
        "     Enter 1 if you are a new customer.\n",
        "     Enter 2 if you are an existing customer.\n",
        "     Enter 3 to terminate the application.\n",
        "     ```\n",
        "\n",
        "     Keep prompting until the user enters the valid input. For each invalid input, we will print the following message to the user.\n",
        "\n",
        "     ```\n",
        "     Invalid input!\n",
        "     Enter 1 if you are a new customer.\n",
        "     Enter 2 if you are an existing customer.\n",
        "     Enter 3 to terminate the application.\n",
        "     ```\n",
        "\n",
        "  3. If the user enters `1`, then we will create a new account for the user and get their personal details. After creating the account, we will terminat the application with the `Thank you, for banking with us!` message. \n",
        "\n",
        "  4. Else if the user enters 2, then we will display their account balance, reduce their balance or increase their balance depending on their further input. Afterwards, we will terminate the application with the `Thank you, for banking with us!` message. \n",
        "\n",
        "  5. Else if the user enters 3, then we will directly terminate the application with the `Thank you, for banking with us!` message. "
      ]
    },
    {
      "cell_type": "code",
      "metadata": {
        "id": "-QAIIkM1qCNr",
        "colab": {
          "base_uri": "https://localhost:8080/"
        },
        "outputId": "9c6dc7b0-2f1c-48a4-ef6e-2dcff570c900"
      },
      "source": [
        "# Create an infinite while loop to run the application.\n",
        "while True:\n",
        "  valid_inputs = ['1','2','3']\n",
        "  print(\"Welcome to the Horizon Bank!\")\n",
        "  print(\"\\nEnter 1 if you are a new customer.\\nEnter 2 if you are an existing customer.\\nEnter 3 to terminate the application.\") \n",
        "\n",
        "  user_choice = input()\n",
        "  while user_choice not in ['1','2','3']:\n",
        "    print(\"Invalid input!\")\n",
        "    print(\"Enter 1 if you are a new customer.\\nEnter 2 if you are an existing customer.\\nEnter 3 to terminate the application.\\n\")\n",
        "    user_choice = input()\n",
        "  # If the user enters 1, then call the 'new_user()' function (to create a new account for the user and get their personal details).\n",
        "  # Write your code here\n",
        "  if user_choice == '1':\n",
        "    new_user()\n",
        "    print(\"\\nThank you, for banking with us!\")\n",
        "    break\n",
        "  elif user_choice == '2':\n",
        "    existing_user()\n",
        "    print(\"\\nThank you, for banking with us!\")\n",
        "    break\n",
        "  # If the user enters 3, then terminate the application with the 'Thank you, for banking with us!' message. \n",
        "  elif user_choice == '3':\n",
        "    print(\"\\nThank you, for banking with us!\")\n",
        "    break"
      ],
      "execution_count": 39,
      "outputs": [
        {
          "output_type": "stream",
          "name": "stdout",
          "text": [
            "Welcome to the Horizon Bank!\n",
            "\n",
            "Enter 1 if you are a new customer.\n",
            "Enter 2 if you are an existing customer.\n",
            "Enter 3 to terminate the application.\n",
            "4\n",
            "Invalid input!\n",
            "Enter 1 if you are a new customer.\n",
            "Enter 2 if you are an existing customer.\n",
            "Enter 3 to terminate the application.\n",
            "\n",
            "1\n",
            "Enter name:\n",
            "Ritesh \n",
            "Enter address:\n",
            "Sec-4,Vaishali, Near Mahagun Metro Mall,Ghaziabad,U.P\n",
            "Enter phone num:\n",
            "7836528977\n",
            "Enter govt id:\n",
            "E76289J\n",
            "Enter amount:\n",
            "200000\n",
            "\n",
            "Your details are added successfully.\n",
            "Your account number is 47885 \n",
            "Please don't lose it.\n",
            "\n",
            "Thank you, for banking with us!\n"
          ]
        }
      ]
    },
    {
      "cell_type": "markdown",
      "source": [
        "we made function for the whole bank application"
      ],
      "metadata": {
        "id": "XeYyZTQ12lwW"
      }
    },
    {
      "cell_type": "code",
      "source": [
        "def bank_user_interface():\n",
        "  while True:\n",
        "    valid_inputs = ['1','2','3']\n",
        "    print(\"Welcome to the Horizon Bank!\")\n",
        "    print(\"\\nEnter 1 if you are a new customer.\\nEnter 2 if you are an existing customer.\\nEnter 3 to terminate the application.\") \n",
        "\n",
        "    user_choice = input()\n",
        "    while user_choice not in ['1','2','3']:\n",
        "      print(\"Invalid input!\")\n",
        "      print(\"Enter 1 if you are a new customer.\\nEnter 2 if you are an existing customer.\\nEnter 3 to terminate the application.\\n\")\n",
        "      user_choice = input()\n",
        "    # If the user enters 1, then call the 'new_user()' function (to create a new account for the user and get their personal details).\n",
        "    # Write your code here\n",
        "    if user_choice == '1':\n",
        "      new_user()\n",
        "      print(\"\\nThank you, for banking with us!\")\n",
        "      break\n",
        "    elif user_choice == '2':\n",
        "      existing_user()\n",
        "      print(\"\\nThank you, for banking with us!\")\n",
        "      break\n",
        "    # If the user enters 3, then terminate the application with the 'Thank you, for banking with us!' message. \n",
        "    elif user_choice == '3':\n",
        "      print(\"\\nThank you, for banking with us!\")\n",
        "      break"
      ],
      "metadata": {
        "id": "nsRLssGBuKHh"
      },
      "execution_count": 40,
      "outputs": []
    },
    {
      "cell_type": "code",
      "source": [
        "bank_user_interface()"
      ],
      "metadata": {
        "colab": {
          "base_uri": "https://localhost:8080/"
        },
        "id": "29Tpv0i1vesO",
        "outputId": "7fcb37ee-d651-496f-bca1-beb2ae5bfc15"
      },
      "execution_count": 41,
      "outputs": [
        {
          "output_type": "stream",
          "name": "stdout",
          "text": [
            "Welcome to the Horizon Bank!\n",
            "\n",
            "Enter 1 if you are a new customer.\n",
            "Enter 2 if you are an existing customer.\n",
            "Enter 3 to terminate the application.\n",
            "2\n",
            "Please enter your account number:\n",
            "23453\n",
            "Not found. Please enter your correct account number:\n",
            "47885\n",
            "\n",
            "Welcome, Ritesh  ! \n",
            "Enter 1 to check your balance.\n",
            "Enter 2 to withdraw an amount.\n",
            "Enter 3 to deposit an amount.\n",
            "1\n",
            "\n",
            "Available Balance: 200000\n",
            "\n",
            "Thank you, for banking with us!\n"
          ]
        }
      ]
    },
    {
      "cell_type": "markdown",
      "metadata": {
        "id": "4qIsQMIj-Is3"
      },
      "source": [
        "---"
      ]
    }
  ]
}